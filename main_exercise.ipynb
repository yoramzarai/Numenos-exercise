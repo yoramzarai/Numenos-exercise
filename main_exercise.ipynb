{
 "cells": [
  {
   "cell_type": "markdown",
   "metadata": {},
   "source": [
    "# TRUST4 Exercise\n",
    "\n",
    "This notebook contains the implementation code and descriptions of the TRUST4 excercise from Numenos.\n",
    "\n",
    "The notebook contains the following main sections:\n",
    "1. `Configurations` - installs and generates reference data, and installs the TRUST4 docker image. Run this section only once.\n",
    "2. `Pipeline` - runs TRUST4 on a given BAM/fastaq file and analyzes the results. The section can be executed multiple times on different BAM/fastaq files.\n",
    "\n",
    "## Flow\n",
    "1. Run the sections `Functions` and `Configurations` once\n",
    "2. Run the section `'Pipeline` on a given BAM/fastaq file\n",
    "\n",
    "## Challenges Encountered \n",
    "- Downloading samples from [GEO](https://www.google.com/search?client=safari&rls=en&q=GEO&ie=UTF-8&oe=UTF-8) requires (in most cases) an AWS or a Google bucket, or using the [SRA toolkit](https://github.com/ncbi/sra-tools/wiki/01.-Downloading-SRA-Toolkit). Using the SRA toolkit, one needs to know if the sample is aligned (to generate a BAM file) or un-aligned (to generate the fastaq files(s)). This information may be present in the sample page. Otherwise, use the `sra-stat --xml ./SRR28479474 > info.xml` command from the SRA toolkit and look in the `<AlignInfo>` field.\n",
    "\n",
    "## Note\n",
    "- The implementation below uses the `TRUST4 docker` image to run TRUST4. Thus, make sure `docker` is installed\n",
    "- Make sure perl5 is installed\n",
    "\n",
    "## QC Considerations\n",
    "- Benchmarking TRUST4's results against other established reconstruction tools. Consistency between tools in identifying clonotypes and diversity metrics can validate the reliability of the results\n",
    "- Comparing the diversity of the V, J, D, and C genes reported with known gene usage patterns \n",
    "\n",
    "## Improvements\n",
    "- The pipeline is implemented here in a Jupyter notebook due to convenience considerations since it is an evaluation exercise. In general, the pipeline should be implemented in python scipts to accomodate efficient workflows and executions (e.g., job scheduling)\n",
    "- The functions (in the `Functions` section) should be implemented in a `./Utils/util.py` file, and imported here\n",
    "- Consider workflow management framework\n",
    "\n",
    "## References:\n",
    "- [TRUST4 git hub](https://github.com/liulab-dfci/TRUST4)\n",
    "- [SRA toolkit](https://github.com/ncbi/sra-tools/wiki/01.-Downloading-SRA-Toolkit)\n",
    "- [GEO](https://www.ncbi.nlm.nih.gov/geo/)\n"
   ]
  },
  {
   "cell_type": "code",
   "execution_count": 1,
   "metadata": {},
   "outputs": [],
   "source": [
    "import os\n",
    "from collections import defaultdict\n",
    "from pathlib import Path\n",
    "\n",
    "import matplotlib.pyplot as plt\n",
    "import numpy as np\n",
    "import pandas as pd"
   ]
  },
  {
   "cell_type": "markdown",
   "metadata": {},
   "source": [
    "## Functions and Classes"
   ]
  },
  {
   "cell_type": "code",
   "execution_count": 2,
   "metadata": {},
   "outputs": [],
   "source": [
    "import subprocess\n",
    "\n",
    "type CommandOut = tuple[bool, str, str]\n",
    "\n",
    "def run_command(command: str) -> CommandOut:\n",
    "    \"\"\"Execute bash shell command.\n",
    "\n",
    "    Args:\n",
    "        command (str): shell command.\n",
    "\n",
    "    Returns:\n",
    "        tuple[bool, str, str]: exit_ok, stdout, stderr.\n",
    "    \"\"\"\n",
    "    ret = subprocess.run(command, shell=True, capture_output=True, check=False)\n",
    "    return ret.returncode==0, ret.stdout.decode(), ret.stderr.decode()\n",
    "\n",
    "class TRUSTContainer():\n",
    "    \"\"\"TRUST4 docker container.\"\"\"\n",
    "    def __init__(self, data_folder: str, ref_folder: str, output_folder: str, image: str, *, platform: str = 'linux/amd64') -> None:\n",
    "        self.image = image\n",
    "        self.bind_info: dict[str, str] = {'/data': data_folder, '/ref': ref_folder, '/out': output_folder}\n",
    "        self.base_command: str = f\"docker run --platform {platform} \" + ' '.join(f\"-v {v}:{k}\" for k, v in self.bind_info.items()) + \\\n",
    "        f\" {self.image} run-trust4\"\n",
    "\n",
    "    def usage(self) -> CommandOut:\n",
    "        \"\"\"Shows usage\"\"\"\n",
    "        return run_command(self.base_command)\n",
    "\n",
    "    def _generate_command(self, ref_file: str, coordinate_file: str, extra_params: str | None = None) -> str:\n",
    "        \"\"\"command with --ref and -f options.\"\"\"\n",
    "        command = self.base_command + f\" --ref /ref/{ref_file} -f /ref/{coordinate_file} --od /out\"\n",
    "        if extra_params is not None:\n",
    "            command += f\" {extra_params}\"\n",
    "        return command\n",
    "\n",
    "    def generate_bam_command(self, ref_file: str, coordinate_file: str, bam_file: str, \n",
    "                             extra_params: str | None = None) -> str:\n",
    "        \"\"\"generates the command to analyse a BAM file\"\"\"\n",
    "        return self._generate_command(ref_file, coordinate_file, extra_params=extra_params) + f\" -b /data/{bam_file}\"\n",
    "    \n",
    "    def generate_paired_fastaq_command(self, ref_file: str, coordinate_file: str, fasta_file1: str, fasta_file2: str, \n",
    "                                       extra_params: str | None = None) -> str:\n",
    "        \"\"\"generates a command to analyze fastaq files/\"\"\"\n",
    "        return self._generate_command(ref_file, coordinate_file, extra_params=extra_params) + f\" -1 /data/{fasta_file1} -2 /data/{fasta_file2}\"\n",
    "    \n",
    "    def generate_single_fastaq_command(self, ref_file: str, coordinate_file: str, fasta_file: str,\n",
    "                                       extra_params: str | None = None) -> str:\n",
    "        \"\"\"generates a command to analyze fastaq files/\"\"\"\n",
    "        return self._generate_command(ref_file, coordinate_file, extra_params=extra_params) + f\" -u /data/{fasta_file}\"\n",
    "\n",
    "    def run_bam(self, ref_file: str, coordinate_file: str, bam_file: str,\n",
    "                extra_params: str | None = None) -> CommandOut:\n",
    "        \"\"\"runs TRUST4 on BAM input file.\"\"\"\n",
    "        return run_command(\n",
    "            self.generate_bam_command(ref_file, coordinate_file, bam_file, extra_params=extra_params)\n",
    "        )\n",
    "\n",
    "    def run_paired_fastaq(self, ref_file: str, coordinate_file: str, fasta_file1: str, fasta_file2: str,\n",
    "                          extra_params: str | None = None) -> CommandOut:\n",
    "        \"\"\"runs TRUST4 on paired fastaq files.\"\"\"\n",
    "        return run_command(\n",
    "            self.generate_paired_fastaq_command(ref_file, coordinate_file, fasta_file1, fasta_file2,\n",
    "                                                extra_params=extra_params)\n",
    "        )\n",
    "    \n",
    "    def run_single_fastaq(self, ref_file: str, coordinate_file: str, fasta_file: str,\n",
    "                          extra_params: str | None = None) -> CommandOut:\n",
    "        \"\"\"Runs TRUST4 on single fastaq file.\"\"\"\n",
    "        return run_command(\n",
    "            self.generate_single_fastaq_command(ref_file, coordinate_file, fasta_file,\n",
    "                                                extra_params=extra_params)\n",
    "        )\n",
    "    \n",
    "    def __repr__(self) -> str:\n",
    "        return f\"TRUSTContainer('{self.bind_info['/data']},{self.bind_info['/ref']}, {self.bind_info['/out']}, {self.image}')\"\n",
    "\n",
    "    def __str__(self) -> str:\n",
    "        return\"TRUST4 docker container interface.\\n\"\n"
   ]
  },
  {
   "cell_type": "markdown",
   "metadata": {},
   "source": [
    "## Configurations\n",
    "Run this section once to load and generate configurations files and the TRUST docker image."
   ]
  },
  {
   "cell_type": "markdown",
   "metadata": {},
   "source": [
    "### Parameters"
   ]
  },
  {
   "cell_type": "code",
   "execution_count": 3,
   "metadata": {},
   "outputs": [],
   "source": [
    "# folder to hold reference files\n",
    "reference_path: Path = Path('./Reference')  # will hold all reference files\n",
    "\n",
    "# reference files\n",
    "genecode_file: Path = reference_path / 'genecode_annotation.gtf'  # annotation file\n",
    "hg38_ref_file: Path = reference_path / 'Homo_sapients_GRCh38.fa'  # hg38 reference genome fasta file\n",
    "VDJC_gene_ref_file: Path = reference_path / 'IMGT+C.fa'  # for the --ref file\n",
    "\n",
    "# BCR and TCR sequences and names\n",
    "bcr_tcr_gene_name_file: Path = reference_path / 'bcr_tcr_gene_name.txt'  # BCR and TCR gene names (required for generating the -f file)\n",
    "bcr_tcr_gene_seq_file: Path = reference_path / 'bcrtcr.fa'  # for the -f option (when using BAM files)\n",
    "\n",
    "# TRUST4 docker\n",
    "data_path: str = os.path.abspath('./Data')  # BAM files folders\n",
    "ref_path: str = os.path.abspath(reference_path)  # reference files folder\n",
    "out_path: str = os.path.abspath('./Output')  # TRUST output files folder\n",
    "docker_container: str = 'quay.io/biocontainers/trust4:1.1.5--h5ca1c30_0'\n",
    "\n",
    "# SRA toolkit folder\n",
    "sra_command_path: str = './Tools/sratoolkit.3.2.1/bin'"
   ]
  },
  {
   "cell_type": "markdown",
   "metadata": {},
   "source": [
    "### Configure"
   ]
  },
  {
   "cell_type": "code",
   "execution_count": null,
   "metadata": {},
   "outputs": [],
   "source": [
    "# download genecode annotation file\n",
    "command = f\"wget -qO- https://ftp.ebi.ac.uk/pub/databases/gencode/Gencode_human/release_47/gencode.v47.annotation.gtf.gz | gunzip > {genecode_file}\"\n",
    "ret, stdout, stderr = run_command(command)\n",
    "print(ret)"
   ]
  },
  {
   "cell_type": "code",
   "execution_count": null,
   "metadata": {},
   "outputs": [],
   "source": [
    "# download Ensembl GRCh38 genome\n",
    "command = f\"wget -qO- https://ftp.ensembl.org/pub/release-113/fasta/homo_sapiens/dna/Homo_sapiens.GRCh38.dna.primary_assembly.fa.gz | gunzip > \\\n",
    "    {hg38_ref_file}\"\n",
    "ret, stdout, stderr = run_command(command)\n",
    "print(ret)"
   ]
  },
  {
   "cell_type": "code",
   "execution_count": null,
   "metadata": {},
   "outputs": [],
   "source": [
    "# create the --ref file\n",
    "command = f\"perl BuildImgtAnnot.pl Homo_sapien > {VDJC_gene_ref_file}\"\n",
    "ret, stdout, stderr = run_command(command)\n",
    "print(ret)\n"
   ]
  },
  {
   "cell_type": "code",
   "execution_count": null,
   "metadata": {},
   "outputs": [],
   "source": [
    "# generate BCR and TCR gene names (needed for generating the -f file)\n",
    "command = f\"\"\"grep \">\" {VDJC_gene_ref_file} | cut -f2 -d'>' | cut -f1 -d'*' | sort | uniq > {bcr_tcr_gene_name_file}\"\"\"\n",
    "ret, stdout, stderr = run_command(command)\n",
    "print(ret)"
   ]
  },
  {
   "cell_type": "code",
   "execution_count": null,
   "metadata": {},
   "outputs": [],
   "source": [
    "# creare the BCR and TCR sequences (for the -f option)\n",
    "command = f\"perl BuildDatabaseFa.pl {hg38_ref_file} {genecode_file} {bcr_tcr_gene_name_file} > {bcr_tcr_gene_seq_file}\"\n",
    "ret, stdout, stderr = run_command(command)\n",
    "print(ret)"
   ]
  },
  {
   "cell_type": "code",
   "execution_count": null,
   "metadata": {},
   "outputs": [],
   "source": [
    "# Get the TRUST4 docker image. Make sure docker is installed.\n",
    "command = f\"docker pull {docker_container}\"\n",
    "ret, stdout, stderr = run_command(command)\n",
    "print(ret)\n",
    "\n",
    "# verify\n",
    "!docker image ls | grep {docker_container.split(':')[0]}"
   ]
  },
  {
   "cell_type": "markdown",
   "metadata": {},
   "source": [
    "## Verify (Optional)\n",
    "We run `TRUST4` on the provided example BAM file to make sure TRUST4 is running properly."
   ]
  },
  {
   "cell_type": "code",
   "execution_count": 4,
   "metadata": {},
   "outputs": [
    {
     "name": "stdout",
     "output_type": "stream",
     "text": [
      "False\n",
      "\n",
      "TRUST4 v1.1.5-r573 usage: ./run-trust4 [OPTIONS]:\n",
      "Required:\n",
      "\t-b STRING: path to bam file\n",
      "\t-1 STRING -2 STRING: path to paired-end read files\n",
      "\t-u STRING: path to single-end read file\n",
      "\t-f STRING: path to the fasta file coordinate and sequence of V/D/J/C genes\n",
      "Optional:\n",
      "\t--ref STRING: path to detailed V/D/J/C gene reference file from IMGT database. (default: not used but recommended)\n",
      "\t-o STRING: prefix of output files. (default: inferred from file prefix)\n",
      "\t--od STRING: the directory for output files. (default: ./)\n",
      "\t-t INT: number of threads (default: 1)\n",
      "\t-k INT: the starting k-mer size for indexing contigs (default: 9)\n",
      "\t--barcode STRING: if -b, bam field for barcode; if -1 -2/-u, file containing barcodes (default: not used)\n",
      "\t--barcodeLevel STRING: barcode is for cell or molecule (default: cell)\n",
      "\t--barcodeWhitelist STRING: path to the barcode whitelist (default: not used)\n",
      "\t--barcodeTranslate STRING: path to the barcode translate file (default: not used)\n",
      "\t--UMI STRING: if -b, bam field for 10x Genomics-like UMI; if -1 -2/-u, file containing 10x Genomics-like UMIs (default: not used)\n",
      "\t--readFormat STRING: format for read, barcode and UMI files (example: r1:0:-1,r2:0:-1,bc:0:15,um:16:-1 for paired-end files with barcode and UMI)\n",
      "\t--repseq: the data is from bulk,non-UMI-based TCR-seq or BCR-seq (default: not set)\n",
      "\t--contigMinCov INT: ignore contigs that have bases covered by fewer than INT reads (default: 0)\n",
      "\t--minHitLen INT: the minimal hit length for a valid overlap (default: auto)\n",
      "\t--mateIdSuffixLen INT: the suffix length in read id for mate. (default: not used)\n",
      "\t--skipMateExtension: do not extend assemblies with mate information, useful for SMART-seq (default: not used)\n",
      "\t--skipReadRealign: do not realign reads in annotator, useful for reducing computation cost of barcode/UMI-based repseq (default: not used)\n",
      "\t--abnormalUnmapFlag: the flag in BAM for the unmapped read-pair is nonconcordant (default: not set)\n",
      "\t--noExtraction: directly use the files from provided -1 -2/-u to assemble (default: extraction first)\n",
      "\t--imgtAdditionalGap STRING: description for additional gap codon position in IMGT (0-based), e.g. \"TRAV:7,83\" for mouse (default: no)\n",
      "\t--assembleWithRef: conduct the assembly with --ref file (default: use -f file)\n",
      "\t--outputReadAssignment: output read assignment results to the prefix_assign.out file (default: no output)\n",
      "\t--stage INT: start TRUST4 on specified stage (default: 0):\n",
      "\t\t0: start from beginning (candidate read extraction)\n",
      "\t\t1: start from assembly\n",
      "\t\t2: start from annotation\n",
      "\t\t3: start from generating the report table\n",
      "\t--clean INT: clean up files. 0: no clean. 1: clean intermediate files. 2: only keep AIRR files. (default: 0)\n",
      "\n"
     ]
    }
   ],
   "source": [
    "# first show usage\n",
    "example_data_path: str = os.path.abspath('./example')\n",
    "example_ref_path: str = os.path.abspath('./')\n",
    "example_out_path: str = os.path.abspath('./example/Output')\n",
    "# -----------------------------------\n",
    "trust4c_exp = TRUSTContainer(example_data_path, example_ref_path, example_out_path, docker_container)\n",
    "ret, stdout, stderr = trust4c_exp.usage()\n",
    "print(ret, stdout, stderr, sep='\\n')"
   ]
  },
  {
   "cell_type": "code",
   "execution_count": 5,
   "metadata": {},
   "outputs": [
    {
     "name": "stdout",
     "output_type": "stream",
     "text": [
      "True\n",
      "\n",
      "[Wed Apr  2 06:46:23 2025] TRUST4 v1.1.5-r573 begins.\n",
      "[Wed Apr  2 06:46:23 2025] SYSTEM CALL: /usr/local/bin/bam-extractor -b /data/example.bam -t 1 -f /ref/hg38_bcrtcr.fa -o /out/TRUST_example_toassemble \n",
      "[Wed Apr  2 06:46:24 2025] Start to extract candidate reads from bam file.\n",
      "[Wed Apr  2 06:46:24 2025] Finish obtaining the candidate read ids.\n",
      "[Wed Apr  2 06:46:24 2025] Finish extracting reads.\n",
      "[Wed Apr  2 06:46:24 2025] SYSTEM CALL: /usr/local/bin/trust4  -f /ref/hg38_bcrtcr.fa -o /out/TRUST_example -1 /out/TRUST_example_toassemble_1.fq -2 /out/TRUST_example_toassemble_2.fq\n",
      "[Wed Apr  2 06:46:24 2025] Start to assemble reads.\n",
      "[Wed Apr  2 06:46:24 2025] Found 394 reads.\n",
      "[Wed Apr  2 06:46:24 2025] Finish sorting the reads.\n",
      "[Wed Apr  2 06:46:24 2025] Finish rough annotations.\n",
      "[Wed Apr  2 06:46:24 2025] Assembled 394 reads.\n",
      "[Wed Apr  2 06:46:24 2025] Try to rescue 0 reads for assembly.\n",
      "[Wed Apr  2 06:46:24 2025] Rescued 0 reads.\n",
      "[Wed Apr  2 06:46:25 2025] Extend assemblies by mate pair information.\n",
      "[Wed Apr  2 06:46:25 2025] Remove redundant assemblies.\n",
      "[Wed Apr  2 06:46:25 2025] Finish assembly.\n",
      "[Wed Apr  2 06:46:25 2025] SYSTEM CALL: /usr/local/bin/annotator -f /ref/human_IMGT+C.fa -a /out/TRUST_example_final.out -t 1 -o /out/TRUST_example  -r /out/TRUST_example_assembled_reads.fa --airrAlignment > /out/TRUST_example_annot.fa\n",
      "[Wed Apr  2 06:46:25 2025] Start to annotate assemblies.\n",
      "[Wed Apr  2 06:46:26 2025] Start to realign reads for CDR3 analysis.\n",
      "[Wed Apr  2 06:46:26 2025] Compute CDR3 abundance.\n",
      "[Wed Apr  2 06:46:26 2025] Finish annotation.\n",
      "[Wed Apr  2 06:46:26 2025] SYSTEM CALL: perl /usr/local/bin/trust-simplerep.pl /out/TRUST_example_cdr3.out  > /out/TRUST_example_report.tsv\n",
      "[Wed Apr  2 06:46:26 2025] SYSTEM CALL: perl /usr/local/bin/trust-airr.pl /out/TRUST_example_report.tsv /out/TRUST_example_annot.fa --airr-align /out/TRUST_example_airr_align.tsv > /out/TRUST_example_airr.tsv\n",
      "[Wed Apr  2 06:46:26 2025] TRUST4 finishes.\n",
      "\n"
     ]
    }
   ],
   "source": [
    "# now run on example BAM file (with provided reference files)\n",
    "bam_file: Path = Path('example.bam')\n",
    "# -----------------------------------\n",
    "ret, stdout, stderr = trust4c_exp.run_bam('human_IMGT+C.fa', 'hg38_bcrtcr.fa', bam_file.name)\n",
    "print(ret, stdout, stderr, sep='\\n')\n"
   ]
  },
  {
   "cell_type": "code",
   "execution_count": 6,
   "metadata": {},
   "outputs": [
    {
     "name": "stdout",
     "output_type": "stream",
     "text": [
      "TRUST4 is ready to use.\n"
     ]
    }
   ],
   "source": [
    "# verify\n",
    "!bash mytrust_example_test.sh"
   ]
  },
  {
   "cell_type": "code",
   "execution_count": null,
   "metadata": {},
   "outputs": [],
   "source": [
    "# now use the paired fastaq files\n",
    "ret, stdout, stderr = trust4c_exp.run_paired_fastaq('human_IMGT+C.fa', 'hg38_bcrtcr.fa', 'example_1.fq', 'example_2.fq')\n",
    "print(ret, stdout, stderr, sep='\\n')"
   ]
  },
  {
   "cell_type": "code",
   "execution_count": null,
   "metadata": {},
   "outputs": [],
   "source": [
    "# verify\n",
    "!bash mytrust_example_test.sh"
   ]
  },
  {
   "cell_type": "code",
   "execution_count": null,
   "metadata": {},
   "outputs": [],
   "source": [
    "# show generated report\n",
    "report_file: Path = Path(example_out_path) / f'TRUST_{bam_file.stem}_report.tsv'\n",
    "df = pd.read_csv(report_file, sep='\\t').rename(columns={'#count': 'count'})\n",
    "display(df)"
   ]
  },
  {
   "cell_type": "code",
   "execution_count": null,
   "metadata": {},
   "outputs": [],
   "source": [
    "# now run with generated reference files\n",
    "trust4c = TRUSTContainer(data_path, ref_path, out_path, docker_container)\n",
    "ret, stdout, stderr = trust4c.run_bam(VDJC_gene_ref_file.name, bcr_tcr_gene_seq_file.name, bam_file.name)\n",
    "print(ret, stdout, stderr, sep='\\n')"
   ]
  },
  {
   "cell_type": "code",
   "execution_count": null,
   "metadata": {},
   "outputs": [],
   "source": [
    "# show example generated report\n",
    "report_file: Path = Path(out_path) / f'TRUST_{bam_file.stem}_report.tsv'\n",
    "df = pd.read_csv(report_file, sep='\\t').rename(columns={'#count': 'count'})\n",
    "display(df)"
   ]
  },
  {
   "cell_type": "markdown",
   "metadata": {},
   "source": [
    "# Analysis Pipeline\n",
    "\n",
    "In this section we run the pipeline on samples.\n",
    "\n",
    "### Data\n",
    "In the example below, we use several samples from this GEO [Dataset](https://www.ncbi.nlm.nih.gov/geo/query/acc.cgi?acc=GSE262648): The tumor immune microenvironment and therapeutic efficacy of trastuzumab deruxtecan in gastric cancer.\n",
    "\n",
    "### Pre-requisite\n",
    "We are using the SRA toolkit to download the GEO samples:\n",
    "- download the [SRA toolkit](https://github.com/ncbi/sra-tools/wiki/01.-Downloading-SRA-Toolkit)\n",
    "- once download, execute `tar -xzvf sratoolkit.3.2.1-mac-arm64.tar`\n",
    "\n",
    "The SRA toolkit resides in `./Tools/sratoolkit.3.2.1/bin` folder.\n",
    "\n",
    "**Samples choosen**:\n",
    "- SRX24082037: GSM8172959: Sbj3_BL; Homo sapiens; RNA-Seq. Run accession number is SRR28479475\n",
    "- SRX24082038: GSM8172960: Sbj4_BL; Homo sapiens; RNA-Seq. Run accession number is SRR28479474\n",
    "- SRX24082039: GSM8172961: Sbj7_BL; Homo sapiens; RNA-Seq. Run accession number is SRR28479473\n",
    "\n",
    "**Downloading a sample**:\n",
    "- See the `Miscellaneous` section below.\n",
    "\n"
   ]
  },
  {
   "cell_type": "code",
   "execution_count": null,
   "metadata": {},
   "outputs": [],
   "source": [
    "# instantiate a TRUST4 class\n",
    "trust4c = TRUSTContainer(data_path, ref_path, out_path, docker_container)"
   ]
  },
  {
   "cell_type": "code",
   "execution_count": null,
   "metadata": {},
   "outputs": [],
   "source": [
    "''' \n",
    "Run the pipeline on a single-end fastaq file.\n",
    "\n",
    "In case of a BAM file, execute instead: \n",
    "    ret, stdout, stderr = trust4c.run_bam(VDJC_gene_ref_file.name, bcr_tcr_gene_seq_file.name, bam_file, extra_params=f\" -t {num_threads}\")\n",
    "\n",
    "In case of paired fasta/fastq files, execute instead:\n",
    "    ret, stdout, stderr = trust4c.run_paired_fastaq(VDJC_gene_ref_file.name, bcr_tcr_gene_seq_file.name, fastaq_file1, fastaq_file2, \n",
    "                                                    extra_params=f\" -t {num_threads}\")\n",
    "\n",
    "Note:\n",
    "- For fastaq input file(s), the coordinate_file input (second input in the run method) can be identical \n",
    "to the ref_file input (first input in the run method) as the coordinates are not needed in this case. Thus, e.g., running \n",
    "    trust4c.run_single_fastaq(VDJC_gene_ref_file.name, bcr_tcr_gene_seq_file.name, fastaq_file, extra_params=f\" -t {num_threads}\"), or \n",
    "    trust4c.run_single_fastaq(VDJC_gene_ref_file.name, VDJC_gene_ref_file.name, fastaq_file, extra_params=f\" -t {num_threads}\") \n",
    "will yield the same results.\n",
    "'''\n",
    "#fastaq_file: str = 'SRR28479475.fastq'\n",
    "#fastaq_file: str = 'SRR28479474.fastq'\n",
    "fastaq_file: str = 'SRR28479473.fastq'\n",
    "\n",
    "\n",
    "num_threads: int = 8  # number of required threads\n",
    "# ------------------------------------------------\n",
    "ret, stdout, stderr = trust4c.run_single_fastaq(VDJC_gene_ref_file.name, bcr_tcr_gene_seq_file.name, fastaq_file, extra_params=f\" -t {num_threads}\")\n",
    "print(ret, stdout, stderr, sep='\\n')"
   ]
  },
  {
   "cell_type": "code",
   "execution_count": null,
   "metadata": {},
   "outputs": [],
   "source": [
    "# show generated report\n",
    "report_file: Path = Path(out_path) / f'TRUST_{Path(fastaq_file).stem}_report.tsv'\n",
    "df = pd.read_csv(report_file, sep='\\t').rename(columns={'#count': 'count'})\n",
    "print(f\"Report from {report_file}:\")\n",
    "display(df)"
   ]
  },
  {
   "cell_type": "markdown",
   "metadata": {},
   "source": [
    "## Result Evaluations"
   ]
  },
  {
   "cell_type": "code",
   "execution_count": 7,
   "metadata": {},
   "outputs": [],
   "source": [
    "figure_path: Path = Path('./Figures')\n",
    "\n",
    "VDJC_genes: list[str] = ['V', 'D', 'J', 'C']\n",
    "CDR3_out_cols: list[str] = [\n",
    "    'consensus_id',\n",
    "    'index_within_consensus',\n",
    "    'V_gene',\n",
    "    'D_gene',\n",
    "    'J_gene',\n",
    "    'C_gene',\n",
    "    'CDR1',\n",
    "    'CDR2',\n",
    "    'CDR3', \n",
    "    'CDR3_score', \n",
    "    'read_fragment_count',\n",
    "    'CDR3_germline_similarity',\n",
    "    'complete_vdj_assembly'\n",
    "]"
   ]
  },
  {
   "cell_type": "code",
   "execution_count": 8,
   "metadata": {},
   "outputs": [],
   "source": [
    "# set the sample to analyze\n",
    "sample_name: str = 'SRR28479473'  # fastaq_file.split('.')[0]\n"
   ]
  },
  {
   "cell_type": "code",
   "execution_count": 9,
   "metadata": {},
   "outputs": [
    {
     "name": "stdout",
     "output_type": "stream",
     "text": [
      "Found 638 unique CDR3 sequences.\n"
     ]
    }
   ],
   "source": [
    "''' \n",
    "Report analysis.\n",
    "'''\n",
    "report_file: Path = Path(out_path) / f'TRUST_{sample_name}_report.tsv'\n",
    "df = pd.read_csv(report_file, sep='\\t').rename(columns={'#count': 'count'})\n",
    "#print(f\"Report from {report_file}:\")\n",
    "#display(df)\n",
    "\n",
    "# number of CDR3 sequences found\n",
    "num_cdr3: int = df['CDR3nt'].unique().size\n",
    "print(f\"Found {num_cdr3:,} unique CDR3 sequences.\")\n"
   ]
  },
  {
   "cell_type": "code",
   "execution_count": null,
   "metadata": {},
   "outputs": [],
   "source": [
    "''' \n",
    "CDR3 scores stats\n",
    "'''\n",
    "figsize: tuple[int, int] = (10,4)\n",
    "save_figure: bool = False\n",
    "# --------------------------------\n",
    "cdr3_file: Path = Path(out_path) / f'TRUST_{Path(fastaq_file).stem}_cdr3.out'\n",
    "df_cdr3 = pd.read_csv(cdr3_file, sep='\\t', names=CDR3_out_cols)\n",
    "display(df_cdr3)\n",
    "\n",
    "cdr3_scores = list(df_cdr3['CDR3_score'])\n",
    "\n",
    "# plot\n",
    "fig, ax = plt.subplots(nrows=1, ncols=1, tight_layout=True, figsize=figsize, squeeze=True)\n",
    "\n",
    "ax.hist(cdr3_scores, bins=list(np.arange(0, 1, 0.1, dtype=float)))\n",
    "ax.grid()\n",
    "ax.set_title(f\"{sample_name}: CDR3 score distribution over {len(cdr3_scores):,} CDRs\", fontsize=16)\n",
    "\n",
    "if save_figure:\n",
    "    fig_file: Path = figure_path / f\"{sample_name}_CDR3_scores.jpg\"\n",
    "    plt.savefig(fig_file)\n",
    "    print(f\"\\nFigure saved in {fig_file}.\")\n",
    "\n",
    "print(\"Recall that 0 score implies partial CDR3.\")\n",
    "\n"
   ]
  },
  {
   "cell_type": "code",
   "execution_count": null,
   "metadata": {},
   "outputs": [],
   "source": [
    "''' \n",
    "VDJC genes diversity.\n",
    "'''\n",
    "figsize: tuple[int, int] = (10,4)\n",
    "width: float = 0.6\n",
    "save_figure: bool = True\n",
    "# -------------------------------\n",
    "VDJC_genes_diverisity = defaultdict(list)\n",
    "for gene in VDJC_genes:\n",
    "    v_genes = df[gene].unique().tolist()\n",
    "    v_tcr_genes = [v for v in v_genes if v.startswith('T')]\n",
    "    v_bcr_genes = [v for v in v_genes if v.startswith('I')]\n",
    "    print(f\"{gene}: Total of {len(v_genes)} genes: {len(v_bcr_genes)} BCR genes and {len(v_tcr_genes)} TCR genes.\")\n",
    "    VDJC_genes_diverisity['BCR'].append(len(v_bcr_genes))\n",
    "    VDJC_genes_diverisity['TCR'].append(len(v_tcr_genes))\n",
    "\n",
    "# plot\n",
    "fig, ax = plt.subplots(nrows=1, ncols=1, tight_layout=True, figsize=figsize, squeeze=True)\n",
    "bottom = np.zeros(len(VDJC_genes))\n",
    "\n",
    "for gene, gene_bcr_tcr_count in VDJC_genes_diverisity.items():\n",
    "    ax.bar(VDJC_genes, gene_bcr_tcr_count, width, label=gene, bottom=bottom)\n",
    "    bottom += gene_bcr_tcr_count\n",
    "ax.grid()\n",
    "ax.set_title(f\"{sample_name}: Diversity of {','.join(VDJC_genes)} genes\", fontsize=16)\n",
    "ax.legend()\n",
    "\n",
    "if save_figure:\n",
    "    fig_file: Path = figure_path / f\"{sample_name}_VDJC_diversity.jpg\"\n",
    "    plt.savefig(fig_file)\n",
    "    print(f\"\\nFigure saved in {fig_file}.\")\n"
   ]
  },
  {
   "cell_type": "code",
   "execution_count": null,
   "metadata": {},
   "outputs": [],
   "source": [
    "''' \n",
    "CDR3 read count\n",
    "'''\n",
    "\n"
   ]
  },
  {
   "cell_type": "code",
   "execution_count": null,
   "metadata": {},
   "outputs": [],
   "source": [
    "\n"
   ]
  },
  {
   "cell_type": "markdown",
   "metadata": {},
   "source": [
    "# Miscellaneous"
   ]
  },
  {
   "cell_type": "markdown",
   "metadata": {},
   "source": [
    "## Download GEO Sample\n",
    "\n",
    "1. Go to the GEO [Dataset](https://www.ncbi.nlm.nih.gov/geo/query/acc.cgi?acc=GSE262648)\n",
    "1. Click on a sample from the Samples row (e.g., GSM8172959)\n",
    "1. Click on the SRA accession number at the bottom (under `Relations`). This will open the corresponding SRA page. Copy the corresponding SRA run accession (e.g. `SRR28479474`).\n"
   ]
  },
  {
   "cell_type": "code",
   "execution_count": null,
   "metadata": {},
   "outputs": [],
   "source": [
    "geo_sample_accession: str = 'SRR28479473'  # run accession number\n",
    "sra_sample_type: str = 'fastaq'  # set to 'fastaq' or 'sam' based on the sample type\n",
    "# ------------------------------------------------------------------------------------\n",
    "assert sra_sample_type in {'sam', 'fastaq'}, f\"{sra_sample_type} should be either sam or fastaq !!\"\n",
    "sra_file: str = f\"{data_path}/{geo_sample_accession}.sra\"\n",
    " \n",
    "# prefetch the data\n",
    "command: str = f\"{sra_command_path}/prefetch -o {sra_file} {geo_sample_accession}\"\n",
    "print(f\"Fetching {geo_sample_accession} data ...\")\n",
    "ret, stdout, stderr = run_command(command)\n",
    "print(ret, stdout, stderr)\n",
    "\n",
    "match sra_sample_type:\n",
    "    case 'sam':\n",
    "        sam_file = Path(sra_file).with_suffix('.sam')\n",
    "        print(\"Creating the SAM file ...\")\n",
    "        command: str = f\"{sra_command_path}/sam-dump.3.2.1 {sra_file} > {sam_file}\"\n",
    "        ret, stdout, stderr = run_command(command)\n",
    "        print(ret, stdout, stderr)\n",
    "        \n",
    "        print(\"Converting to BAM ...\")\n",
    "        command: str = f\"samtools view -bS {sam_file} > .{sam_file.with_suffix('.bam')}\"\n",
    "        ret, stdout, stderr = run_command(command)\n",
    "        print(ret, stdout, stderr)\n",
    "\n",
    "        print(\"Removing the sam file ...\")\n",
    "        !rm {sam_file}\n",
    "    case 'fastaq':\n",
    "        print(\"Creating the fastaq file ...\")\n",
    "        command: str = f\"{sra_command_path}/fasterq-dump.3.2.1 {sra_file} -t {data_path} -O {data_path}\"\n",
    "        ret, stdout, stderr = run_command(command)\n",
    "        print(ret, stdout, stderr)\n",
    "    case _:\n",
    "        raise ValueError(f\"Unknown {sra_sample_type=} !!\")\n",
    "\n",
    "# remove the SRA file\n",
    "print(f\"Removing {sra_file}...\")\n",
    "!rm {sra_file}"
   ]
  },
  {
   "cell_type": "markdown",
   "metadata": {},
   "source": [
    "# History"
   ]
  },
  {
   "cell_type": "markdown",
   "metadata": {},
   "source": [
    "Things we tried:\n",
    "\n",
    "1. To download the sample (e.g., `SRR28479474`), use the SRA toolkit as follows:\n",
    "\n",
    "    1. `prefetch SRR28479474`(or `prefetch SRX24082038`) - this downloads the sample in a `.sra` format\n",
    "    1. if the sample is not alligned (as in this case), perform: `fasterq-dump.3.2.1 ./SRR28479474 -t ./temp -O ./SRR28479474` - this will generate the fastaq file(s)\n",
    "    1. if the sample is aligned, perform `sam-dump.3.2.1 ./SRR28479474/SRR28479474.sra > ./SRR28479474/SRR28479474.sam` and then generate the BAM file by executing `samtools view -bS ./SRR28479474/SRR28479474.sam > ./SRR28479474/SRR28479474.bam`\n",
    "\n",
    "1. dataset from Immunophenotyping of COVID-19 and Influenza Underscores the Association of Type I IFN Response in Severe COVID-19 in [GEO](https://www.ncbi.nlm.nih.gov/geo/query/acc.cgi?acc=GSE149689): \n",
    "\n",
    "From the downloaded folder execute:\n",
    "1. ./bin/prefetch SRX8241106 --max-size 30G\n",
    "\n",
    "Resulted with:\n",
    "```console\n",
    "2025-03-31T13:15:00 prefetch.3.2.1: 1) Resolving 'SRX8241106'...\n",
    "2025-03-31T13:15:03 prefetch.3.2.1: Current preference is set to retrieve SRA Normalized Format files with full base quality scores\n",
    "2025-03-31T13:15:03 prefetch.3.2.1: 1) Downloading 'SRR11680207'...\n",
    "2025-03-31T13:15:03 prefetch.3.2.1:  SRA Normalized Format file is being retrieved\n",
    "2025-03-31T13:15:03 prefetch.3.2.1:  Downloading via HTTPS...\n",
    "2025-03-31T13:52:10 prefetch.3.2.1:  HTTPS download succeed\n",
    "2025-03-31T13:52:10 prefetch.3.2.1:   verifying 'SRR11680207'...\n",
    "2025-03-31T13:52:57 prefetch.3.2.1:  'SRR11680207' is valid: 29607783613 bytes were streamed from 29607781179\n",
    "2025-03-31T13:52:57 prefetch.3.2.1: 1) 'SRR11680207' was downloaded successfully\n",
    "2025-03-31T13:52:57 prefetch.3.2.1: 1) Resolving 'SRX8241106's dependencies...\n",
    "2025-03-31T13:52:57 prefetch.3.2.1: 'SRX8241106' has 0 unresolved dependencies\n",
    "```\n",
    "\n",
    "1. then generate the fastaq files: ./bin/fasterq-dump.3.2.1 ./SRR11680207 -t ./temp -O ./SRR11680207\n",
    "\n",
    "resulted in:\n",
    "```console\n",
    "spots read      : 722,551,560\n",
    "reads read      : 1,445,103,120\n",
    "reads written   : 1,445,103,120\n",
    "```\n",
    "\n",
    "Running on the two fastaq files:\n",
    "```python\n",
    "fastq_1_file = 'SRR11680207_1.fastq'\n",
    "fastq_2_file = 'SRR11680207_2.fastq'\n",
    "\n",
    "num_threads: int = 8\n",
    "# -----------------------\n",
    "ret, stdout, stderr = trust4c.run_paired_fastaq(VDJC_gene_ref_file.name, bcr_tcr_gene_seq_file.name, fastq_1_file, fastq_2_file, extra_params=f\" -t {num_threads}\")\n",
    "print(ret, stdout, stderr, sep='\\n')\n",
    "```\n",
    "\n",
    "Resulted in:\n",
    "```console\n",
    "Mon Mar 31 16:43:23 2025] TRUST4 v1.1.5-r573 begins.\n",
    "[Mon Mar 31 16:43:23 2025] SYSTEM CALL: /usr/local/bin/fastq-extractor -t 8 -f /ref/bcrtcr.fa -o /out/TRUST_SRR11680207_1_toassemble  -1 /data/SRR11680207_1.fastq -2 /data/SRR11680207_2.fastq\n",
    "[Mon Mar 31 16:43:23 2025] Start to extract candidate reads from read files.\n",
    "system /usr/local/bin/fastq-extractor -t 8 -f /ref/bcrtcr.fa -o /out/TRUST_SRR11680207_1_toassemble  -1 /data/SRR11680207_1.fastq -2 /data/SRR11680207_2.fastq failed: 9 at /usr/local/bin/run-trust4 line 60\n",
    "```\n",
    "\n",
    "Tried also to create the BAM file:\n",
    "1. ./bin/sam-dump.3.2.1 ./SRR11680207/SRR11680207.sra > ./SRR11680207/SRR11680207.sam\n",
    "1. samtools view -bS ./SRR11680207/SRR11680207.sam > ./SRR11680207/SRR11680207.bam\n",
    "\n",
    "And then running on the BAM file resulted in a similar error.\n",
    "\n",
    "Try now https://www.ncbi.nlm.nih.gov/geo/query/acc.cgi?acc=GSE262648:\n",
    "1. ./bin/prefetch SRR28479475\n",
    "1. ./bin/sam-dump.3.2.1 ./SRR28479475/SRR28479475.sra > ./SRR28479475/SRR28479475.sam\n",
    "1. samtools view -bS ./SRR28479475/SRR28479475.sam > ./SRR28479475/SRR28479475.bam"
   ]
  }
 ],
 "metadata": {
  "kernelspec": {
   "display_name": ".venv",
   "language": "python",
   "name": "python3"
  },
  "language_info": {
   "codemirror_mode": {
    "name": "ipython",
    "version": 3
   },
   "file_extension": ".py",
   "mimetype": "text/x-python",
   "name": "python",
   "nbconvert_exporter": "python",
   "pygments_lexer": "ipython3",
   "version": "3.13.2"
  }
 },
 "nbformat": 4,
 "nbformat_minor": 2
}
